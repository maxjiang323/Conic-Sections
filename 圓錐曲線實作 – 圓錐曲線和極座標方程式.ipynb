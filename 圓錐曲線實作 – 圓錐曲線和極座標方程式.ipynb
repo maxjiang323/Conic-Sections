{
 "cells": [
  {
   "cell_type": "markdown",
   "metadata": {},
   "source": [
    "# 圓錐曲線實作 – 圓錐曲線和極座標方程式"
   ]
  },
  {
   "cell_type": "markdown",
   "metadata": {},
   "source": [
    "### 以下為小論文「離」不「圓」了的研究內容，在 Jupyter Notebook 的環境下，以 Python 程式繪製出不同離心率下，極座標方程式呈現的圓錐曲線圖形。"
   ]
  },
  {
   "cell_type": "markdown",
   "metadata": {},
   "source": [
    "## 1. 圓錐曲線和極座標方程式"
   ]
  },
  {
   "cell_type": "markdown",
   "metadata": {},
   "source": [
    "### Define  $F(0, 0)$ is a fixed point ; $L:x = 3$ is a fixed line ; $P$ is a moving point on the plot of conic section , the polar coordinate of $P$ is $[r, \\theta]$. $e$ is the eccentricity of the plot which $P$ forms, $d=d(F, L)=3$."
   ]
  },
  {
   "cell_type": "markdown",
   "metadata": {},
   "source": [
    "### Use the equation and the moving point $P\\;$:\n",
    "### $$r=\\frac{ed}{1+e·cos\\theta} , (0\\le\\theta\\le2\\pi) ; P[r, \\theta]$$ \n",
    "### to demonstrate the plot of conic section."
   ]
  },
  {
   "cell_type": "code",
   "execution_count": 2,
   "metadata": {},
   "outputs": [],
   "source": [
    "%matplotlib inline\n",
    "%config InlineBackend.figure_format = 'svg'\n",
    "import numpy as np\n",
    "import matplotlib.pyplot as plt"
   ]
  },
  {
   "cell_type": "code",
   "execution_count": 3,
   "metadata": {},
   "outputs": [],
   "source": [
    "def conic_section_plot(e): # e--> Eccentricity(離心率)\n",
    "    d = 3 # d --> d(F, L)\n",
    "    theta = np.arange(0, 2*np.pi, 0.001) \n",
    "    r = (e*d)/(1+e*np.cos(theta)) \n",
    "    \n",
    "    # Polar Coordinate(極座標)\n",
    "    x = r*np.cos(theta) \n",
    "    y = r*np.sin(theta) \n",
    "    \n",
    "    if e > 1:\n",
    "        y[:-1][np.diff(y) < 0] = np.nan\n",
    "            \n",
    "    plt.rcParams['figure.figsize'] = (11, 4) # set the size of plot to (11:4)[x, y]\n",
    "    plt.rcParams.update({'font.size': 14}) # enlarge the size on the numbers of x axis and y axis \n",
    "    plt.axis([-30, 40, -10, 10]) # set the limit of x axis and y axis --> [x_min, x_max, y_min, y_max]\n",
    "    plt.xticks([-30, 0, 3, 40], ['-30', '0','3', '40'])\n",
    "    plt.axis('on') # plot the axis(x and y)\n",
    "    plt.grid(True, zorder = 1) # plot the grid\n",
    "    \n",
    "    plt.axhline(0, color = 'black', linewidth = 2, zorder = 2) # plot the line of the axis\n",
    "    plt.axvline(0, color = 'black', linewidth = 2, zorder = 2) # plot the line of the y axis\n",
    "    plt.scatter(0, 0, color = 'blue', s = 50, zorder = 3, label = r'$F(0, 0)$') \n",
    "    # plot the focus point, original setting : (0, 0) (it can be reset)\n",
    "    plt.plot(x, y,color = 'orange', linewidth = 3, zorder = 3, label = r'$P[r, \\theta]$') # The Plot of Conic Section\n",
    "    plt.axvline(3, color = 'red', linewidth = 3, zorder = 3, label = r'$L:x=3$') # plot the fixed line\n",
    "    \n",
    "    plt.title('The Plot of Conic Section', fontsize = 20)\n",
    "    plt.legend(loc = 'best', fontsize = 14)\n"
   ]
  },
  {
   "cell_type": "code",
   "execution_count": 5,
   "metadata": {},
   "outputs": [
    {
     "data": {
      "application/vnd.jupyter.widget-view+json": {
       "model_id": "26d2f3c1613a4749a8919c55707a29a7",
       "version_major": 2,
       "version_minor": 0
      },
      "text/plain": [
       "interactive(children=(FloatSlider(value=1.5, description='e', max=3.0), Output()), _dom_classes=('widget-inter…"
      ]
     },
     "metadata": {},
     "output_type": "display_data"
    },
    {
     "data": {
      "text/plain": [
       "<function __main__.conic_section_plot(e)>"
      ]
     },
     "execution_count": 5,
     "metadata": {},
     "output_type": "execute_result"
    }
   ],
   "source": [
    "from ipywidgets import interact\n",
    "interact(conic_section_plot, e = (0.00, 3.00)) \n",
    "# original setting : the e(eccentricity) range from 0.00, 0.10, 0.20, ... , 2.90, 3.00 (it can be reset)"
   ]
  },
  {
   "cell_type": "markdown",
   "metadata": {},
   "source": [
    "### 因為在 Github 線上瀏覽 Jupyter Notebook 的程式碼和執行結果時，不會顯示 interact 這個函式的執行結果，所以我將其操作過程及成果展示拍成影片，在下面附上影片連結。使用 Github 線上瀏覽程式碼時，連結下面的圖片是使用 interact 這函式的執行結果的截圖。"
   ]
  },
  {
   "cell_type": "markdown",
   "metadata": {},
   "source": [
    "### [ interact 函式執行結果的影片連結](https://youtu.be/-5KLJwPNfdM)"
   ]
  },
  {
   "cell_type": "markdown",
   "metadata": {},
   "source": [
    "### 以下為 e（Eccentricity, 離心率）在各個區間中的圓錐曲線圖形\n",
    "### 1.1 點 (e = 0)\n",
    "![image](https://github.com/user-attachments/assets/3012cf5d-3cd0-4669-86c2-986b704ce845)\n",
    "\n",
    "### 1.2 橢圓 (0 < e < 1, e = 0.9)\n",
    "![image](https://github.com/user-attachments/assets/9099b453-5e08-4a0a-8ab9-a62fa16a9d4b)\n",
    "\n",
    "### 1.3 拋物線 (e = 1)\n",
    "![image](https://github.com/user-attachments/assets/13c8b580-9e8a-4220-8d18-8a559bb1e190)\n",
    "\n",
    "### 1.4 雙曲線 (e > 1, e = 1.5)\n",
    "![image](https://github.com/user-attachments/assets/e8ec8c86-012d-4121-8013-f4ad5035eab3)"
   ]
  },
  {
   "cell_type": "code",
   "execution_count": null,
   "metadata": {},
   "outputs": [],
   "source": []
  }
 ],
 "metadata": {
  "kernelspec": {
   "display_name": "Python 3 (ipykernel)",
   "language": "python",
   "name": "python3"
  },
  "language_info": {
   "codemirror_mode": {
    "name": "ipython",
    "version": 3
   },
   "file_extension": ".py",
   "mimetype": "text/x-python",
   "name": "python",
   "nbconvert_exporter": "python",
   "pygments_lexer": "ipython3",
   "version": "3.9.12"
  },
  "widgets": {
   "application/vnd.jupyter.widget-state+json": {
    "state": {
     "428f4d02f1ba4cbdbd0f6583c7a411ec": {
      "model_module": "@jupyter-widgets/output",
      "model_module_version": "1.0.0",
      "model_name": "OutputModel",
      "state": {
       "layout": "IPY_MODEL_d043cf6c840c4a1faff71bd36ddd7383",
       "outputs": [
        {
         "data": {
          "image/svg+xml": "<?xml version=\"1.0\" encoding=\"utf-8\" standalone=\"no\"?>\r\n<!DOCTYPE svg PUBLIC \"-//W3C//DTD SVG 1.1//EN\"\r\n  \"http://www.w3.org/Graphics/SVG/1.1/DTD/svg11.dtd\">\r\n<svg height=\"273.58625pt\" version=\"1.1\" viewBox=\"0 0 673.654063 273.58625\" width=\"673.654063pt\" xmlns=\"http://www.w3.org/2000/svg\" xmlns:xlink=\"http://www.w3.org/1999/xlink\">\r\n <metadata>\r\n  <rdf:RDF xmlns:cc=\"http://creativecommons.org/ns#\" xmlns:dc=\"http://purl.org/dc/elements/1.1/\" xmlns:rdf=\"http://www.w3.org/1999/02/22-rdf-syntax-ns#\">\r\n   <cc:Work>\r\n    <dc:type rdf:resource=\"http://purl.org/dc/dcmitype/StillImage\"/>\r\n    <dc:date>2021-10-02T11:11:13.440745</dc:date>\r\n    <dc:format>image/svg+xml</dc:format>\r\n    <dc:creator>\r\n     <cc:Agent>\r\n      <dc:title>Matplotlib v3.4.1, https://matplotlib.org/</dc:title>\r\n     </cc:Agent>\r\n    </dc:creator>\r\n   </cc:Work>\r\n  </rdf:RDF>\r\n </metadata>\r\n <defs>\r\n  <style type=\"text/css\">*{stroke-linecap:butt;stroke-linejoin:round;}</style>\r\n </defs>\r\n <g id=\"figure_1\">\r\n  <g id=\"patch_1\">\r\n   <path d=\"M 0 273.58625 \r\nL 673.654063 273.58625 \r\nL 673.654063 0 \r\nL 0 0 \r\nz\r\n\" style=\"fill:none;\"/>\r\n  </g>\r\n  <g id=\"axes_1\">\r\n   <g id=\"patch_2\">\r\n    <path d=\"M 43.746563 245.836875 \r\nL 657.546563 245.836875 \r\nL 657.546563 28.396875 \r\nL 43.746563 28.396875 \r\nz\r\n\" style=\"fill:#ffffff;\"/>\r\n   </g>\r\n   <g id=\"matplotlib.axis_1\">\r\n    <g id=\"xtick_1\">\r\n     <g id=\"line2d_1\">\r\n      <path clip-path=\"url(#p09b9624de9)\" d=\"M 43.746563 245.836875 \r\nL 43.746563 28.396875 \r\n\" style=\"fill:none;stroke:#b0b0b0;stroke-linecap:square;stroke-width:0.8;\"/>\r\n     </g>\r\n     <g id=\"line2d_2\">\r\n      <defs>\r\n       <path d=\"M 0 0 \r\nL 0 3.5 \r\n\" id=\"m6e3b06cee2\" style=\"stroke:#000000;stroke-width:0.8;\"/>\r\n      </defs>\r\n      <g>\r\n       <use style=\"stroke:#000000;stroke-width:0.8;\" x=\"43.746563\" xlink:href=\"#m6e3b06cee2\" y=\"245.836875\"/>\r\n      </g>\r\n     </g>\r\n     <g id=\"text_1\">\r\n      <!-- -30 -->\r\n      <g transform=\"translate(32.313594 263.474688)scale(0.14 -0.14)\">\r\n       <defs>\r\n        <path d=\"M 313 2009 \r\nL 1997 2009 \r\nL 1997 1497 \r\nL 313 1497 \r\nL 313 2009 \r\nz\r\n\" id=\"DejaVuSans-2d\" transform=\"scale(0.015625)\"/>\r\n        <path d=\"M 2597 2516 \r\nQ 3050 2419 3304 2112 \r\nQ 3559 1806 3559 1356 \r\nQ 3559 666 3084 287 \r\nQ 2609 -91 1734 -91 \r\nQ 1441 -91 1130 -33 \r\nQ 819 25 488 141 \r\nL 488 750 \r\nQ 750 597 1062 519 \r\nQ 1375 441 1716 441 \r\nQ 2309 441 2620 675 \r\nQ 2931 909 2931 1356 \r\nQ 2931 1769 2642 2001 \r\nQ 2353 2234 1838 2234 \r\nL 1294 2234 \r\nL 1294 2753 \r\nL 1863 2753 \r\nQ 2328 2753 2575 2939 \r\nQ 2822 3125 2822 3475 \r\nQ 2822 3834 2567 4026 \r\nQ 2313 4219 1838 4219 \r\nQ 1578 4219 1281 4162 \r\nQ 984 4106 628 3988 \r\nL 628 4550 \r\nQ 988 4650 1302 4700 \r\nQ 1616 4750 1894 4750 \r\nQ 2613 4750 3031 4423 \r\nQ 3450 4097 3450 3541 \r\nQ 3450 3153 3228 2886 \r\nQ 3006 2619 2597 2516 \r\nz\r\n\" id=\"DejaVuSans-33\" transform=\"scale(0.015625)\"/>\r\n        <path d=\"M 2034 4250 \r\nQ 1547 4250 1301 3770 \r\nQ 1056 3291 1056 2328 \r\nQ 1056 1369 1301 889 \r\nQ 1547 409 2034 409 \r\nQ 2525 409 2770 889 \r\nQ 3016 1369 3016 2328 \r\nQ 3016 3291 2770 3770 \r\nQ 2525 4250 2034 4250 \r\nz\r\nM 2034 4750 \r\nQ 2819 4750 3233 4129 \r\nQ 3647 3509 3647 2328 \r\nQ 3647 1150 3233 529 \r\nQ 2819 -91 2034 -91 \r\nQ 1250 -91 836 529 \r\nQ 422 1150 422 2328 \r\nQ 422 3509 836 4129 \r\nQ 1250 4750 2034 4750 \r\nz\r\n\" id=\"DejaVuSans-30\" transform=\"scale(0.015625)\"/>\r\n       </defs>\r\n       <use xlink:href=\"#DejaVuSans-2d\"/>\r\n       <use x=\"36.083984\" xlink:href=\"#DejaVuSans-33\"/>\r\n       <use x=\"99.707031\" xlink:href=\"#DejaVuSans-30\"/>\r\n      </g>\r\n     </g>\r\n    </g>\r\n    <g id=\"xtick_2\">\r\n     <g id=\"line2d_3\">\r\n      <path clip-path=\"url(#p09b9624de9)\" d=\"M 306.803705 245.836875 \r\nL 306.803705 28.396875 \r\n\" style=\"fill:none;stroke:#b0b0b0;stroke-linecap:square;stroke-width:0.8;\"/>\r\n     </g>\r\n     <g id=\"line2d_4\">\r\n      <g>\r\n       <use style=\"stroke:#000000;stroke-width:0.8;\" x=\"306.803705\" xlink:href=\"#m6e3b06cee2\" y=\"245.836875\"/>\r\n      </g>\r\n     </g>\r\n     <g id=\"text_2\">\r\n      <!-- 0 -->\r\n      <g transform=\"translate(302.349955 263.474688)scale(0.14 -0.14)\">\r\n       <use xlink:href=\"#DejaVuSans-30\"/>\r\n      </g>\r\n     </g>\r\n    </g>\r\n    <g id=\"xtick_3\">\r\n     <g id=\"line2d_5\">\r\n      <path clip-path=\"url(#p09b9624de9)\" d=\"M 333.10942 245.836875 \r\nL 333.10942 28.396875 \r\n\" style=\"fill:none;stroke:#b0b0b0;stroke-linecap:square;stroke-width:0.8;\"/>\r\n     </g>\r\n     <g id=\"line2d_6\">\r\n      <g>\r\n       <use style=\"stroke:#000000;stroke-width:0.8;\" x=\"333.10942\" xlink:href=\"#m6e3b06cee2\" y=\"245.836875\"/>\r\n      </g>\r\n     </g>\r\n     <g id=\"text_3\">\r\n      <!-- 3 -->\r\n      <g transform=\"translate(328.65567 263.474688)scale(0.14 -0.14)\">\r\n       <use xlink:href=\"#DejaVuSans-33\"/>\r\n      </g>\r\n     </g>\r\n    </g>\r\n    <g id=\"xtick_4\">\r\n     <g id=\"line2d_7\">\r\n      <path clip-path=\"url(#p09b9624de9)\" d=\"M 657.546563 245.836875 \r\nL 657.546563 28.396875 \r\n\" style=\"fill:none;stroke:#b0b0b0;stroke-linecap:square;stroke-width:0.8;\"/>\r\n     </g>\r\n     <g id=\"line2d_8\">\r\n      <g>\r\n       <use style=\"stroke:#000000;stroke-width:0.8;\" x=\"657.546563\" xlink:href=\"#m6e3b06cee2\" y=\"245.836875\"/>\r\n      </g>\r\n     </g>\r\n     <g id=\"text_4\">\r\n      <!-- 40 -->\r\n      <g transform=\"translate(648.639063 263.474688)scale(0.14 -0.14)\">\r\n       <defs>\r\n        <path d=\"M 2419 4116 \r\nL 825 1625 \r\nL 2419 1625 \r\nL 2419 4116 \r\nz\r\nM 2253 4666 \r\nL 3047 4666 \r\nL 3047 1625 \r\nL 3713 1625 \r\nL 3713 1100 \r\nL 3047 1100 \r\nL 3047 0 \r\nL 2419 0 \r\nL 2419 1100 \r\nL 313 1100 \r\nL 313 1709 \r\nL 2253 4666 \r\nz\r\n\" id=\"DejaVuSans-34\" transform=\"scale(0.015625)\"/>\r\n       </defs>\r\n       <use xlink:href=\"#DejaVuSans-34\"/>\r\n       <use x=\"63.623047\" xlink:href=\"#DejaVuSans-30\"/>\r\n      </g>\r\n     </g>\r\n    </g>\r\n   </g>\r\n   <g id=\"matplotlib.axis_2\">\r\n    <g id=\"ytick_1\">\r\n     <g id=\"line2d_9\">\r\n      <path clip-path=\"url(#p09b9624de9)\" d=\"M 43.746563 245.836875 \r\nL 657.546563 245.836875 \r\n\" style=\"fill:none;stroke:#b0b0b0;stroke-linecap:square;stroke-width:0.8;\"/>\r\n     </g>\r\n     <g id=\"line2d_10\">\r\n      <defs>\r\n       <path d=\"M 0 0 \r\nL -3.5 0 \r\n\" id=\"m822a02713e\" style=\"stroke:#000000;stroke-width:0.8;\"/>\r\n      </defs>\r\n      <g>\r\n       <use style=\"stroke:#000000;stroke-width:0.8;\" x=\"43.746563\" xlink:href=\"#m822a02713e\" y=\"245.836875\"/>\r\n      </g>\r\n     </g>\r\n     <g id=\"text_5\">\r\n      <!-- −10 -->\r\n      <g transform=\"translate(7.2 251.155781)scale(0.14 -0.14)\">\r\n       <defs>\r\n        <path d=\"M 678 2272 \r\nL 4684 2272 \r\nL 4684 1741 \r\nL 678 1741 \r\nL 678 2272 \r\nz\r\n\" id=\"DejaVuSans-2212\" transform=\"scale(0.015625)\"/>\r\n        <path d=\"M 794 531 \r\nL 1825 531 \r\nL 1825 4091 \r\nL 703 3866 \r\nL 703 4441 \r\nL 1819 4666 \r\nL 2450 4666 \r\nL 2450 531 \r\nL 3481 531 \r\nL 3481 0 \r\nL 794 0 \r\nL 794 531 \r\nz\r\n\" id=\"DejaVuSans-31\" transform=\"scale(0.015625)\"/>\r\n       </defs>\r\n       <use xlink:href=\"#DejaVuSans-2212\"/>\r\n       <use x=\"83.789062\" xlink:href=\"#DejaVuSans-31\"/>\r\n       <use x=\"147.412109\" xlink:href=\"#DejaVuSans-30\"/>\r\n      </g>\r\n     </g>\r\n    </g>\r\n    <g id=\"ytick_2\">\r\n     <g id=\"line2d_11\">\r\n      <path clip-path=\"url(#p09b9624de9)\" d=\"M 43.746563 191.476875 \r\nL 657.546563 191.476875 \r\n\" style=\"fill:none;stroke:#b0b0b0;stroke-linecap:square;stroke-width:0.8;\"/>\r\n     </g>\r\n     <g id=\"line2d_12\">\r\n      <g>\r\n       <use style=\"stroke:#000000;stroke-width:0.8;\" x=\"43.746563\" xlink:href=\"#m822a02713e\" y=\"191.476875\"/>\r\n      </g>\r\n     </g>\r\n     <g id=\"text_6\">\r\n      <!-- −5 -->\r\n      <g transform=\"translate(16.1075 196.795781)scale(0.14 -0.14)\">\r\n       <defs>\r\n        <path d=\"M 691 4666 \r\nL 3169 4666 \r\nL 3169 4134 \r\nL 1269 4134 \r\nL 1269 2991 \r\nQ 1406 3038 1543 3061 \r\nQ 1681 3084 1819 3084 \r\nQ 2600 3084 3056 2656 \r\nQ 3513 2228 3513 1497 \r\nQ 3513 744 3044 326 \r\nQ 2575 -91 1722 -91 \r\nQ 1428 -91 1123 -41 \r\nQ 819 9 494 109 \r\nL 494 744 \r\nQ 775 591 1075 516 \r\nQ 1375 441 1709 441 \r\nQ 2250 441 2565 725 \r\nQ 2881 1009 2881 1497 \r\nQ 2881 1984 2565 2268 \r\nQ 2250 2553 1709 2553 \r\nQ 1456 2553 1204 2497 \r\nQ 953 2441 691 2322 \r\nL 691 4666 \r\nz\r\n\" id=\"DejaVuSans-35\" transform=\"scale(0.015625)\"/>\r\n       </defs>\r\n       <use xlink:href=\"#DejaVuSans-2212\"/>\r\n       <use x=\"83.789062\" xlink:href=\"#DejaVuSans-35\"/>\r\n      </g>\r\n     </g>\r\n    </g>\r\n    <g id=\"ytick_3\">\r\n     <g id=\"line2d_13\">\r\n      <path clip-path=\"url(#p09b9624de9)\" d=\"M 43.746563 137.116875 \r\nL 657.546563 137.116875 \r\n\" style=\"fill:none;stroke:#b0b0b0;stroke-linecap:square;stroke-width:0.8;\"/>\r\n     </g>\r\n     <g id=\"line2d_14\">\r\n      <g>\r\n       <use style=\"stroke:#000000;stroke-width:0.8;\" x=\"43.746563\" xlink:href=\"#m822a02713e\" y=\"137.116875\"/>\r\n      </g>\r\n     </g>\r\n     <g id=\"text_7\">\r\n      <!-- 0 -->\r\n      <g transform=\"translate(27.839063 142.435781)scale(0.14 -0.14)\">\r\n       <use xlink:href=\"#DejaVuSans-30\"/>\r\n      </g>\r\n     </g>\r\n    </g>\r\n    <g id=\"ytick_4\">\r\n     <g id=\"line2d_15\">\r\n      <path clip-path=\"url(#p09b9624de9)\" d=\"M 43.746563 82.756875 \r\nL 657.546563 82.756875 \r\n\" style=\"fill:none;stroke:#b0b0b0;stroke-linecap:square;stroke-width:0.8;\"/>\r\n     </g>\r\n     <g id=\"line2d_16\">\r\n      <g>\r\n       <use style=\"stroke:#000000;stroke-width:0.8;\" x=\"43.746563\" xlink:href=\"#m822a02713e\" y=\"82.756875\"/>\r\n      </g>\r\n     </g>\r\n     <g id=\"text_8\">\r\n      <!-- 5 -->\r\n      <g transform=\"translate(27.839063 88.075781)scale(0.14 -0.14)\">\r\n       <use xlink:href=\"#DejaVuSans-35\"/>\r\n      </g>\r\n     </g>\r\n    </g>\r\n    <g id=\"ytick_5\">\r\n     <g id=\"line2d_17\">\r\n      <path clip-path=\"url(#p09b9624de9)\" d=\"M 43.746563 28.396875 \r\nL 657.546563 28.396875 \r\n\" style=\"fill:none;stroke:#b0b0b0;stroke-linecap:square;stroke-width:0.8;\"/>\r\n     </g>\r\n     <g id=\"line2d_18\">\r\n      <g>\r\n       <use style=\"stroke:#000000;stroke-width:0.8;\" x=\"43.746563\" xlink:href=\"#m822a02713e\" y=\"28.396875\"/>\r\n      </g>\r\n     </g>\r\n     <g id=\"text_9\">\r\n      <!-- 10 -->\r\n      <g transform=\"translate(18.931563 33.715781)scale(0.14 -0.14)\">\r\n       <use xlink:href=\"#DejaVuSans-31\"/>\r\n       <use x=\"63.623047\" xlink:href=\"#DejaVuSans-30\"/>\r\n      </g>\r\n     </g>\r\n    </g>\r\n   </g>\r\n   <g id=\"line2d_19\">\r\n    <path clip-path=\"url(#p09b9624de9)\" d=\"M 43.746563 137.116875 \r\nL 657.546563 137.116875 \r\n\" style=\"fill:none;stroke:#000000;stroke-linecap:square;stroke-width:2;\"/>\r\n   </g>\r\n   <g id=\"line2d_20\">\r\n    <path clip-path=\"url(#p09b9624de9)\" d=\"M 306.803705 245.836875 \r\nL 306.803705 28.396875 \r\n\" style=\"fill:none;stroke:#000000;stroke-linecap:square;stroke-width:2;\"/>\r\n   </g>\r\n   <g id=\"patch_3\">\r\n    <path d=\"M 43.746563 245.836875 \r\nL 43.746563 28.396875 \r\n\" style=\"fill:none;stroke:#000000;stroke-linecap:square;stroke-linejoin:miter;stroke-width:0.8;\"/>\r\n   </g>\r\n   <g id=\"patch_4\">\r\n    <path d=\"M 657.546563 245.836875 \r\nL 657.546563 28.396875 \r\n\" style=\"fill:none;stroke:#000000;stroke-linecap:square;stroke-linejoin:miter;stroke-width:0.8;\"/>\r\n   </g>\r\n   <g id=\"patch_5\">\r\n    <path d=\"M 43.746563 245.836875 \r\nL 657.546563 245.836875 \r\n\" style=\"fill:none;stroke:#000000;stroke-linecap:square;stroke-linejoin:miter;stroke-width:0.8;\"/>\r\n   </g>\r\n   <g id=\"patch_6\">\r\n    <path d=\"M 43.746563 28.396875 \r\nL 657.546563 28.396875 \r\n\" style=\"fill:none;stroke:#000000;stroke-linecap:square;stroke-linejoin:miter;stroke-width:0.8;\"/>\r\n   </g>\r\n   <g id=\"PathCollection_1\">\r\n    <defs>\r\n     <path d=\"M 0 3.535534 \r\nC 0.937635 3.535534 1.836992 3.163008 2.5 2.5 \r\nC 3.163008 1.836992 3.535534 0.937635 3.535534 0 \r\nC 3.535534 -0.937635 3.163008 -1.836992 2.5 -2.5 \r\nC 1.836992 -3.163008 0.937635 -3.535534 0 -3.535534 \r\nC -0.937635 -3.535534 -1.836992 -3.163008 -2.5 -2.5 \r\nC -3.163008 -1.836992 -3.535534 -0.937635 -3.535534 0 \r\nC -3.535534 0.937635 -3.163008 1.836992 -2.5 2.5 \r\nC -1.836992 3.163008 -0.937635 3.535534 0 3.535534 \r\nz\r\n\" id=\"m454dd9fe92\" style=\"stroke:#0000ff;\"/>\r\n    </defs>\r\n    <g clip-path=\"url(#p09b9624de9)\">\r\n     <use style=\"fill:#0000ff;stroke:#0000ff;\" x=\"306.803705\" xlink:href=\"#m454dd9fe92\" y=\"137.116875\"/>\r\n    </g>\r\n   </g>\r\n   <g id=\"line2d_21\">\r\n    <path clip-path=\"url(#p09b9624de9)\" d=\"M 324.340848 137.116875 \r\nL 324.229799 132.871861 \r\nL 323.893401 128.555196 \r\nL 323.319543 124.077819 \r\nL 322.483372 119.329867 \r\nL 321.34975 114.201781 \r\nL 319.878465 108.591939 \r\nL 317.987758 102.276932 \r\nL 315.574904 95.017371 \r\nL 312.536911 86.599562 \r\nL 308.652062 76.51168 \r\nL 303.672923 64.224558 \r\nL 297.192162 48.85137 \r\nL 288.709107 29.324519 \r\nL 277.368618 3.797924 \r\nL 275.215841 -1 \r\nM 408.249307 274.58625 \r\nL 395.386218 245.680886 \r\nL 386.122415 224.350822 \r\nL 379.309265 208.133549 \r\nL 374.15394 195.306307 \r\nL 370.232866 184.96643 \r\nL 367.24341 176.473325 \r\nL 364.936883 169.269864 \r\nL 363.153316 162.98453 \r\nL 361.804876 157.436886 \r\nL 360.806356 152.412972 \r\nL 360.10115 147.753628 \r\nL 359.652458 143.333731 \r\nL 359.438189 139.048673 \r\nL 359.448151 134.804767 \r\nL 359.682812 130.511566 \r\nL 360.144234 126.144593 \r\nL 360.85641 121.537366 \r\nL 361.837453 116.649935 \r\nL 363.148902 111.265966 \r\nL 364.837609 105.293212 \r\nL 366.992016 98.511128 \r\nL 369.742948 90.613614 \r\nL 373.219363 81.333304 \r\nL 377.660445 70.13454 \r\nL 383.436499 56.203963 \r\nL 390.973422 38.638417 \r\nL 401.069384 15.708305 \r\nL 408.54015 -1 \r\nM 275.506677 274.58625 \r\nL 288.534515 245.306323 \r\nL 297.84284 223.861087 \r\nL 304.616624 207.720267 \r\nL 309.687924 195.086491 \r\nL 313.558251 184.870372 \r\nL 316.548134 176.367553 \r\nL 318.843298 169.189771 \r\nL 320.615121 162.93726 \r\nL 321.96188 157.388114 \r\nL 322.965123 152.324307 \r\nL 323.669272 147.638955 \r\nL 324.113569 143.199879 \r\nL 324.321073 138.905927 \r\nL 324.340848 137.120904 \r\nL 324.340848 137.120904 \r\n\" style=\"fill:none;stroke:#ffa500;stroke-linecap:square;stroke-width:3;\"/>\r\n   </g>\r\n   <g id=\"line2d_22\">\r\n    <path clip-path=\"url(#p09b9624de9)\" d=\"M 333.10942 245.836875 \r\nL 333.10942 28.396875 \r\n\" style=\"fill:none;stroke:#ff0000;stroke-linecap:square;stroke-width:3;\"/>\r\n   </g>\r\n   <g id=\"text_10\">\r\n    <!-- The Plot of Conic Section -->\r\n    <g transform=\"translate(225.979375 22.396875)scale(0.2 -0.2)\">\r\n     <defs>\r\n      <path d=\"M -19 4666 \r\nL 3928 4666 \r\nL 3928 4134 \r\nL 2272 4134 \r\nL 2272 0 \r\nL 1638 0 \r\nL 1638 4134 \r\nL -19 4134 \r\nL -19 4666 \r\nz\r\n\" id=\"DejaVuSans-54\" transform=\"scale(0.015625)\"/>\r\n      <path d=\"M 3513 2113 \r\nL 3513 0 \r\nL 2938 0 \r\nL 2938 2094 \r\nQ 2938 2591 2744 2837 \r\nQ 2550 3084 2163 3084 \r\nQ 1697 3084 1428 2787 \r\nQ 1159 2491 1159 1978 \r\nL 1159 0 \r\nL 581 0 \r\nL 581 4863 \r\nL 1159 4863 \r\nL 1159 2956 \r\nQ 1366 3272 1645 3428 \r\nQ 1925 3584 2291 3584 \r\nQ 2894 3584 3203 3211 \r\nQ 3513 2838 3513 2113 \r\nz\r\n\" id=\"DejaVuSans-68\" transform=\"scale(0.015625)\"/>\r\n      <path d=\"M 3597 1894 \r\nL 3597 1613 \r\nL 953 1613 \r\nQ 991 1019 1311 708 \r\nQ 1631 397 2203 397 \r\nQ 2534 397 2845 478 \r\nQ 3156 559 3463 722 \r\nL 3463 178 \r\nQ 3153 47 2828 -22 \r\nQ 2503 -91 2169 -91 \r\nQ 1331 -91 842 396 \r\nQ 353 884 353 1716 \r\nQ 353 2575 817 3079 \r\nQ 1281 3584 2069 3584 \r\nQ 2775 3584 3186 3129 \r\nQ 3597 2675 3597 1894 \r\nz\r\nM 3022 2063 \r\nQ 3016 2534 2758 2815 \r\nQ 2500 3097 2075 3097 \r\nQ 1594 3097 1305 2825 \r\nQ 1016 2553 972 2059 \r\nL 3022 2063 \r\nz\r\n\" id=\"DejaVuSans-65\" transform=\"scale(0.015625)\"/>\r\n      <path id=\"DejaVuSans-20\" transform=\"scale(0.015625)\"/>\r\n      <path d=\"M 1259 4147 \r\nL 1259 2394 \r\nL 2053 2394 \r\nQ 2494 2394 2734 2622 \r\nQ 2975 2850 2975 3272 \r\nQ 2975 3691 2734 3919 \r\nQ 2494 4147 2053 4147 \r\nL 1259 4147 \r\nz\r\nM 628 4666 \r\nL 2053 4666 \r\nQ 2838 4666 3239 4311 \r\nQ 3641 3956 3641 3272 \r\nQ 3641 2581 3239 2228 \r\nQ 2838 1875 2053 1875 \r\nL 1259 1875 \r\nL 1259 0 \r\nL 628 0 \r\nL 628 4666 \r\nz\r\n\" id=\"DejaVuSans-50\" transform=\"scale(0.015625)\"/>\r\n      <path d=\"M 603 4863 \r\nL 1178 4863 \r\nL 1178 0 \r\nL 603 0 \r\nL 603 4863 \r\nz\r\n\" id=\"DejaVuSans-6c\" transform=\"scale(0.015625)\"/>\r\n      <path d=\"M 1959 3097 \r\nQ 1497 3097 1228 2736 \r\nQ 959 2375 959 1747 \r\nQ 959 1119 1226 758 \r\nQ 1494 397 1959 397 \r\nQ 2419 397 2687 759 \r\nQ 2956 1122 2956 1747 \r\nQ 2956 2369 2687 2733 \r\nQ 2419 3097 1959 3097 \r\nz\r\nM 1959 3584 \r\nQ 2709 3584 3137 3096 \r\nQ 3566 2609 3566 1747 \r\nQ 3566 888 3137 398 \r\nQ 2709 -91 1959 -91 \r\nQ 1206 -91 779 398 \r\nQ 353 888 353 1747 \r\nQ 353 2609 779 3096 \r\nQ 1206 3584 1959 3584 \r\nz\r\n\" id=\"DejaVuSans-6f\" transform=\"scale(0.015625)\"/>\r\n      <path d=\"M 1172 4494 \r\nL 1172 3500 \r\nL 2356 3500 \r\nL 2356 3053 \r\nL 1172 3053 \r\nL 1172 1153 \r\nQ 1172 725 1289 603 \r\nQ 1406 481 1766 481 \r\nL 2356 481 \r\nL 2356 0 \r\nL 1766 0 \r\nQ 1100 0 847 248 \r\nQ 594 497 594 1153 \r\nL 594 3053 \r\nL 172 3053 \r\nL 172 3500 \r\nL 594 3500 \r\nL 594 4494 \r\nL 1172 4494 \r\nz\r\n\" id=\"DejaVuSans-74\" transform=\"scale(0.015625)\"/>\r\n      <path d=\"M 2375 4863 \r\nL 2375 4384 \r\nL 1825 4384 \r\nQ 1516 4384 1395 4259 \r\nQ 1275 4134 1275 3809 \r\nL 1275 3500 \r\nL 2222 3500 \r\nL 2222 3053 \r\nL 1275 3053 \r\nL 1275 0 \r\nL 697 0 \r\nL 697 3053 \r\nL 147 3053 \r\nL 147 3500 \r\nL 697 3500 \r\nL 697 3744 \r\nQ 697 4328 969 4595 \r\nQ 1241 4863 1831 4863 \r\nL 2375 4863 \r\nz\r\n\" id=\"DejaVuSans-66\" transform=\"scale(0.015625)\"/>\r\n      <path d=\"M 4122 4306 \r\nL 4122 3641 \r\nQ 3803 3938 3442 4084 \r\nQ 3081 4231 2675 4231 \r\nQ 1875 4231 1450 3742 \r\nQ 1025 3253 1025 2328 \r\nQ 1025 1406 1450 917 \r\nQ 1875 428 2675 428 \r\nQ 3081 428 3442 575 \r\nQ 3803 722 4122 1019 \r\nL 4122 359 \r\nQ 3791 134 3420 21 \r\nQ 3050 -91 2638 -91 \r\nQ 1578 -91 968 557 \r\nQ 359 1206 359 2328 \r\nQ 359 3453 968 4101 \r\nQ 1578 4750 2638 4750 \r\nQ 3056 4750 3426 4639 \r\nQ 3797 4528 4122 4306 \r\nz\r\n\" id=\"DejaVuSans-43\" transform=\"scale(0.015625)\"/>\r\n      <path d=\"M 3513 2113 \r\nL 3513 0 \r\nL 2938 0 \r\nL 2938 2094 \r\nQ 2938 2591 2744 2837 \r\nQ 2550 3084 2163 3084 \r\nQ 1697 3084 1428 2787 \r\nQ 1159 2491 1159 1978 \r\nL 1159 0 \r\nL 581 0 \r\nL 581 3500 \r\nL 1159 3500 \r\nL 1159 2956 \r\nQ 1366 3272 1645 3428 \r\nQ 1925 3584 2291 3584 \r\nQ 2894 3584 3203 3211 \r\nQ 3513 2838 3513 2113 \r\nz\r\n\" id=\"DejaVuSans-6e\" transform=\"scale(0.015625)\"/>\r\n      <path d=\"M 603 3500 \r\nL 1178 3500 \r\nL 1178 0 \r\nL 603 0 \r\nL 603 3500 \r\nz\r\nM 603 4863 \r\nL 1178 4863 \r\nL 1178 4134 \r\nL 603 4134 \r\nL 603 4863 \r\nz\r\n\" id=\"DejaVuSans-69\" transform=\"scale(0.015625)\"/>\r\n      <path d=\"M 3122 3366 \r\nL 3122 2828 \r\nQ 2878 2963 2633 3030 \r\nQ 2388 3097 2138 3097 \r\nQ 1578 3097 1268 2742 \r\nQ 959 2388 959 1747 \r\nQ 959 1106 1268 751 \r\nQ 1578 397 2138 397 \r\nQ 2388 397 2633 464 \r\nQ 2878 531 3122 666 \r\nL 3122 134 \r\nQ 2881 22 2623 -34 \r\nQ 2366 -91 2075 -91 \r\nQ 1284 -91 818 406 \r\nQ 353 903 353 1747 \r\nQ 353 2603 823 3093 \r\nQ 1294 3584 2113 3584 \r\nQ 2378 3584 2631 3529 \r\nQ 2884 3475 3122 3366 \r\nz\r\n\" id=\"DejaVuSans-63\" transform=\"scale(0.015625)\"/>\r\n      <path d=\"M 3425 4513 \r\nL 3425 3897 \r\nQ 3066 4069 2747 4153 \r\nQ 2428 4238 2131 4238 \r\nQ 1616 4238 1336 4038 \r\nQ 1056 3838 1056 3469 \r\nQ 1056 3159 1242 3001 \r\nQ 1428 2844 1947 2747 \r\nL 2328 2669 \r\nQ 3034 2534 3370 2195 \r\nQ 3706 1856 3706 1288 \r\nQ 3706 609 3251 259 \r\nQ 2797 -91 1919 -91 \r\nQ 1588 -91 1214 -16 \r\nQ 841 59 441 206 \r\nL 441 856 \r\nQ 825 641 1194 531 \r\nQ 1563 422 1919 422 \r\nQ 2459 422 2753 634 \r\nQ 3047 847 3047 1241 \r\nQ 3047 1584 2836 1778 \r\nQ 2625 1972 2144 2069 \r\nL 1759 2144 \r\nQ 1053 2284 737 2584 \r\nQ 422 2884 422 3419 \r\nQ 422 4038 858 4394 \r\nQ 1294 4750 2059 4750 \r\nQ 2388 4750 2728 4690 \r\nQ 3069 4631 3425 4513 \r\nz\r\n\" id=\"DejaVuSans-53\" transform=\"scale(0.015625)\"/>\r\n     </defs>\r\n     <use xlink:href=\"#DejaVuSans-54\"/>\r\n     <use x=\"61.083984\" xlink:href=\"#DejaVuSans-68\"/>\r\n     <use x=\"124.462891\" xlink:href=\"#DejaVuSans-65\"/>\r\n     <use x=\"185.986328\" xlink:href=\"#DejaVuSans-20\"/>\r\n     <use x=\"217.773438\" xlink:href=\"#DejaVuSans-50\"/>\r\n     <use x=\"278.076172\" xlink:href=\"#DejaVuSans-6c\"/>\r\n     <use x=\"305.859375\" xlink:href=\"#DejaVuSans-6f\"/>\r\n     <use x=\"367.041016\" xlink:href=\"#DejaVuSans-74\"/>\r\n     <use x=\"406.25\" xlink:href=\"#DejaVuSans-20\"/>\r\n     <use x=\"438.037109\" xlink:href=\"#DejaVuSans-6f\"/>\r\n     <use x=\"499.21875\" xlink:href=\"#DejaVuSans-66\"/>\r\n     <use x=\"534.423828\" xlink:href=\"#DejaVuSans-20\"/>\r\n     <use x=\"566.210938\" xlink:href=\"#DejaVuSans-43\"/>\r\n     <use x=\"636.035156\" xlink:href=\"#DejaVuSans-6f\"/>\r\n     <use x=\"697.216797\" xlink:href=\"#DejaVuSans-6e\"/>\r\n     <use x=\"760.595703\" xlink:href=\"#DejaVuSans-69\"/>\r\n     <use x=\"788.378906\" xlink:href=\"#DejaVuSans-63\"/>\r\n     <use x=\"843.359375\" xlink:href=\"#DejaVuSans-20\"/>\r\n     <use x=\"875.146484\" xlink:href=\"#DejaVuSans-53\"/>\r\n     <use x=\"938.623047\" xlink:href=\"#DejaVuSans-65\"/>\r\n     <use x=\"1000.146484\" xlink:href=\"#DejaVuSans-63\"/>\r\n     <use x=\"1055.126953\" xlink:href=\"#DejaVuSans-74\"/>\r\n     <use x=\"1094.335938\" xlink:href=\"#DejaVuSans-69\"/>\r\n     <use x=\"1122.119141\" xlink:href=\"#DejaVuSans-6f\"/>\r\n     <use x=\"1183.300781\" xlink:href=\"#DejaVuSans-6e\"/>\r\n    </g>\r\n   </g>\r\n   <g id=\"legend_1\">\r\n    <g id=\"patch_7\">\r\n     <path d=\"M 550.586563 101.245 \r\nL 647.746563 101.245 \r\nQ 650.546563 101.245 650.546563 98.445 \r\nL 650.546563 38.196875 \r\nQ 650.546563 35.396875 647.746563 35.396875 \r\nL 550.586563 35.396875 \r\nQ 547.786563 35.396875 547.786563 38.196875 \r\nL 547.786563 98.445 \r\nQ 547.786563 101.245 550.586563 101.245 \r\nz\r\n\" style=\"fill:#ffffff;opacity:0.8;stroke:#cccccc;stroke-linejoin:miter;\"/>\r\n    </g>\r\n    <g id=\"line2d_23\">\r\n     <path d=\"M 553.386563 46.734687 \r\nL 581.386563 46.734687 \r\n\" style=\"fill:none;stroke:#ffa500;stroke-linecap:square;stroke-width:3;\"/>\r\n    </g>\r\n    <g id=\"line2d_24\"/>\r\n    <g id=\"text_11\">\r\n     <!-- $P[r, \\theta]$ -->\r\n     <g transform=\"translate(592.586563 51.634687)scale(0.14 -0.14)\">\r\n      <defs>\r\n       <path d=\"M 1081 4666 \r\nL 2541 4666 \r\nQ 3178 4666 3512 4369 \r\nQ 3847 4072 3847 3500 \r\nQ 3847 2731 3353 2303 \r\nQ 2859 1875 1966 1875 \r\nL 1172 1875 \r\nL 806 0 \r\nL 172 0 \r\nL 1081 4666 \r\nz\r\nM 1613 4147 \r\nL 1275 2394 \r\nL 2069 2394 \r\nQ 2606 2394 2893 2669 \r\nQ 3181 2944 3181 3456 \r\nQ 3181 3784 2986 3965 \r\nQ 2791 4147 2438 4147 \r\nL 1613 4147 \r\nz\r\n\" id=\"DejaVuSans-Oblique-50\" transform=\"scale(0.015625)\"/>\r\n       <path d=\"M 550 4863 \r\nL 1875 4863 \r\nL 1875 4416 \r\nL 1125 4416 \r\nL 1125 -397 \r\nL 1875 -397 \r\nL 1875 -844 \r\nL 550 -844 \r\nL 550 4863 \r\nz\r\n\" id=\"DejaVuSans-5b\" transform=\"scale(0.015625)\"/>\r\n       <path d=\"M 2853 2969 \r\nQ 2766 3016 2653 3041 \r\nQ 2541 3066 2413 3066 \r\nQ 1953 3066 1609 2717 \r\nQ 1266 2369 1153 1784 \r\nL 800 0 \r\nL 225 0 \r\nL 909 3500 \r\nL 1484 3500 \r\nL 1375 2956 \r\nQ 1603 3259 1920 3421 \r\nQ 2238 3584 2597 3584 \r\nQ 2691 3584 2781 3573 \r\nQ 2872 3563 2963 3538 \r\nL 2853 2969 \r\nz\r\n\" id=\"DejaVuSans-Oblique-72\" transform=\"scale(0.015625)\"/>\r\n       <path d=\"M 750 794 \r\nL 1409 794 \r\nL 1409 256 \r\nL 897 -744 \r\nL 494 -744 \r\nL 750 256 \r\nL 750 794 \r\nz\r\n\" id=\"DejaVuSans-2c\" transform=\"scale(0.015625)\"/>\r\n       <path d=\"M 2913 2219 \r\nL 925 2219 \r\nQ 791 1284 928 888 \r\nQ 1100 400 1566 400 \r\nQ 2034 400 2391 891 \r\nQ 2703 1322 2913 2219 \r\nz\r\nM 3009 2750 \r\nQ 3094 3638 2984 3950 \r\nQ 2813 4444 2353 4444 \r\nQ 1875 4444 1525 3956 \r\nQ 1250 3563 1034 2750 \r\nL 3009 2750 \r\nz\r\nM 2444 4913 \r\nQ 3194 4913 3494 4250 \r\nQ 3794 3591 3566 2422 \r\nQ 3341 1256 2781 594 \r\nQ 2225 -72 1475 -72 \r\nQ 722 -72 425 594 \r\nQ 128 1256 353 2422 \r\nQ 581 3591 1134 4250 \r\nQ 1691 4913 2444 4913 \r\nz\r\n\" id=\"DejaVuSans-Oblique-3b8\" transform=\"scale(0.015625)\"/>\r\n       <path d=\"M 1947 4863 \r\nL 1947 -844 \r\nL 622 -844 \r\nL 622 -397 \r\nL 1369 -397 \r\nL 1369 4416 \r\nL 622 4416 \r\nL 622 4863 \r\nL 1947 4863 \r\nz\r\n\" id=\"DejaVuSans-5d\" transform=\"scale(0.015625)\"/>\r\n      </defs>\r\n      <use transform=\"translate(0 0.234375)\" xlink:href=\"#DejaVuSans-Oblique-50\"/>\r\n      <use transform=\"translate(60.302734 0.234375)\" xlink:href=\"#DejaVuSans-5b\"/>\r\n      <use transform=\"translate(99.316406 0.234375)\" xlink:href=\"#DejaVuSans-Oblique-72\"/>\r\n      <use transform=\"translate(140.429688 0.234375)\" xlink:href=\"#DejaVuSans-2c\"/>\r\n      <use transform=\"translate(191.699219 0.234375)\" xlink:href=\"#DejaVuSans-Oblique-3b8\"/>\r\n      <use transform=\"translate(252.880859 0.234375)\" xlink:href=\"#DejaVuSans-5d\"/>\r\n     </g>\r\n    </g>\r\n    <g id=\"line2d_25\">\r\n     <path d=\"M 553.386563 67.284062 \r\nL 581.386563 67.284062 \r\n\" style=\"fill:none;stroke:#ff0000;stroke-linecap:square;stroke-width:3;\"/>\r\n    </g>\r\n    <g id=\"line2d_26\"/>\r\n    <g id=\"text_12\">\r\n     <!-- $L:x=3$ -->\r\n     <g transform=\"translate(592.586563 72.184062)scale(0.14 -0.14)\">\r\n      <defs>\r\n       <path d=\"M 1075 4666 \r\nL 1709 4666 \r\nL 909 525 \r\nL 3181 525 \r\nL 3078 0 \r\nL 172 0 \r\nL 1075 4666 \r\nz\r\n\" id=\"DejaVuSans-Oblique-4c\" transform=\"scale(0.015625)\"/>\r\n       <path d=\"M 750 794 \r\nL 1409 794 \r\nL 1409 0 \r\nL 750 0 \r\nL 750 794 \r\nz\r\nM 750 3309 \r\nL 1409 3309 \r\nL 1409 2516 \r\nL 750 2516 \r\nL 750 3309 \r\nz\r\n\" id=\"DejaVuSans-3a\" transform=\"scale(0.015625)\"/>\r\n       <path d=\"M 3841 3500 \r\nL 2234 1784 \r\nL 3219 0 \r\nL 2559 0 \r\nL 1819 1388 \r\nL 531 0 \r\nL -166 0 \r\nL 1556 1844 \r\nL 641 3500 \r\nL 1300 3500 \r\nL 1972 2234 \r\nL 3144 3500 \r\nL 3841 3500 \r\nz\r\n\" id=\"DejaVuSans-Oblique-78\" transform=\"scale(0.015625)\"/>\r\n       <path d=\"M 678 2906 \r\nL 4684 2906 \r\nL 4684 2381 \r\nL 678 2381 \r\nL 678 2906 \r\nz\r\nM 678 1631 \r\nL 4684 1631 \r\nL 4684 1100 \r\nL 678 1100 \r\nL 678 1631 \r\nz\r\n\" id=\"DejaVuSans-3d\" transform=\"scale(0.015625)\"/>\r\n      </defs>\r\n      <use transform=\"translate(0 0.78125)\" xlink:href=\"#DejaVuSans-Oblique-4c\"/>\r\n      <use transform=\"translate(75.195312 0.78125)\" xlink:href=\"#DejaVuSans-3a\"/>\r\n      <use transform=\"translate(128.369141 0.78125)\" xlink:href=\"#DejaVuSans-Oblique-78\"/>\r\n      <use transform=\"translate(207.03125 0.78125)\" xlink:href=\"#DejaVuSans-3d\"/>\r\n      <use transform=\"translate(310.302734 0.78125)\" xlink:href=\"#DejaVuSans-33\"/>\r\n     </g>\r\n    </g>\r\n    <g id=\"PathCollection_2\">\r\n     <g>\r\n      <use style=\"fill:#0000ff;stroke:#0000ff;\" x=\"567.386563\" xlink:href=\"#m454dd9fe92\" y=\"89.058437\"/>\r\n     </g>\r\n    </g>\r\n    <g id=\"text_13\">\r\n     <!-- $F(0, 0)$ -->\r\n     <g transform=\"translate(592.586563 92.733437)scale(0.14 -0.14)\">\r\n      <defs>\r\n       <path d=\"M 1081 4666 \r\nL 3756 4666 \r\nL 3653 4134 \r\nL 1606 4134 \r\nL 1338 2759 \r\nL 3188 2759 \r\nL 3084 2228 \r\nL 1234 2228 \r\nL 800 0 \r\nL 172 0 \r\nL 1081 4666 \r\nz\r\n\" id=\"DejaVuSans-Oblique-46\" transform=\"scale(0.015625)\"/>\r\n       <path d=\"M 1984 4856 \r\nQ 1566 4138 1362 3434 \r\nQ 1159 2731 1159 2009 \r\nQ 1159 1288 1364 580 \r\nQ 1569 -128 1984 -844 \r\nL 1484 -844 \r\nQ 1016 -109 783 600 \r\nQ 550 1309 550 2009 \r\nQ 550 2706 781 3412 \r\nQ 1013 4119 1484 4856 \r\nL 1984 4856 \r\nz\r\n\" id=\"DejaVuSans-28\" transform=\"scale(0.015625)\"/>\r\n       <path d=\"M 513 4856 \r\nL 1013 4856 \r\nQ 1481 4119 1714 3412 \r\nQ 1947 2706 1947 2009 \r\nQ 1947 1309 1714 600 \r\nQ 1481 -109 1013 -844 \r\nL 513 -844 \r\nQ 928 -128 1133 580 \r\nQ 1338 1288 1338 2009 \r\nQ 1338 2731 1133 3434 \r\nQ 928 4138 513 4856 \r\nz\r\n\" id=\"DejaVuSans-29\" transform=\"scale(0.015625)\"/>\r\n      </defs>\r\n      <use transform=\"translate(0 0.125)\" xlink:href=\"#DejaVuSans-Oblique-46\"/>\r\n      <use transform=\"translate(57.519531 0.125)\" xlink:href=\"#DejaVuSans-28\"/>\r\n      <use transform=\"translate(96.533203 0.125)\" xlink:href=\"#DejaVuSans-30\"/>\r\n      <use transform=\"translate(160.15625 0.125)\" xlink:href=\"#DejaVuSans-2c\"/>\r\n      <use transform=\"translate(211.425781 0.125)\" xlink:href=\"#DejaVuSans-30\"/>\r\n      <use transform=\"translate(275.048828 0.125)\" xlink:href=\"#DejaVuSans-29\"/>\r\n     </g>\r\n    </g>\r\n   </g>\r\n  </g>\r\n </g>\r\n <defs>\r\n  <clipPath id=\"p09b9624de9\">\r\n   <rect height=\"217.44\" width=\"613.8\" x=\"43.746563\" y=\"28.396875\"/>\r\n  </clipPath>\r\n </defs>\r\n</svg>\r\n",
          "text/plain": "<Figure size 792x288 with 1 Axes>"
         },
         "metadata": {
          "needs_background": "light"
         },
         "output_type": "display_data"
        }
       ]
      }
     },
     "6473e3e89b1a467c9066fc5e15e10adf": {
      "model_module": "@jupyter-widgets/base",
      "model_module_version": "1.2.0",
      "model_name": "LayoutModel",
      "state": {}
     },
     "8fbf95f8d4554b5685d1457913960a1a": {
      "model_module": "@jupyter-widgets/controls",
      "model_module_version": "1.5.0",
      "model_name": "FloatSliderModel",
      "state": {
       "description": "e",
       "layout": "IPY_MODEL_6473e3e89b1a467c9066fc5e15e10adf",
       "max": 4,
       "step": 0.1,
       "style": "IPY_MODEL_9fcff718dea7476a9251179dda63d010",
       "value": 2
      }
     },
     "93c5452ae8684a55a3c61cf0a842d97b": {
      "model_module": "@jupyter-widgets/base",
      "model_module_version": "1.2.0",
      "model_name": "LayoutModel",
      "state": {}
     },
     "9fcff718dea7476a9251179dda63d010": {
      "model_module": "@jupyter-widgets/controls",
      "model_module_version": "1.5.0",
      "model_name": "SliderStyleModel",
      "state": {
       "description_width": ""
      }
     },
     "d043cf6c840c4a1faff71bd36ddd7383": {
      "model_module": "@jupyter-widgets/base",
      "model_module_version": "1.2.0",
      "model_name": "LayoutModel",
      "state": {}
     },
     "f812676adb7b44d8b6e4f907f86cdc14": {
      "model_module": "@jupyter-widgets/controls",
      "model_module_version": "1.5.0",
      "model_name": "VBoxModel",
      "state": {
       "_dom_classes": [
        "widget-interact"
       ],
       "children": [
        "IPY_MODEL_8fbf95f8d4554b5685d1457913960a1a",
        "IPY_MODEL_428f4d02f1ba4cbdbd0f6583c7a411ec"
       ],
       "layout": "IPY_MODEL_93c5452ae8684a55a3c61cf0a842d97b"
      }
     }
    },
    "version_major": 2,
    "version_minor": 0
   }
  }
 },
 "nbformat": 4,
 "nbformat_minor": 4
}
